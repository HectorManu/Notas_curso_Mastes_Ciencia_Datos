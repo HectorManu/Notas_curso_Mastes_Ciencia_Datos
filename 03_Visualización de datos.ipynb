{
 "cells": [
  {
   "cell_type": "markdown",
   "metadata": {},
   "source": [
    "# Módulo 2. Análisis de datos\n"
   ]
  },
  {
   "cell_type": "markdown",
   "metadata": {},
   "source": [
    "## 1. Intruducción\n",
    "\n",
    "Lo primero que debemos realizar a la hora de trabajar con machine learning es visualizar nuestros datos para conocer su comportamiento y distribución. Esta primera obervación de datos posibiilita aprender más sobre ellos siendola forma más rápida y útil de conocer qué técnicas son las más adecuadas en *pre* y *pos* procesamiento. En este sentido en esta tercera sección trabajarmos:\n",
    "\n",
    "- Cómo crear gráficos para entender cada atributo de manera independiente\n",
    "- Cómo crear gráficos para entender las relaciones entre los diferentes atributos\n",
    "  \n",
    "Los gráficos de las relaciones entre los atributos pueden darnos una idea de los atributos que pueden ser redundantes, los métodos de remuestreo que pueden ser necesarios y, en última instancia, la dificultad de un problema de predicción. Para ello, la fase de visualización puede dividirse en las siguientes partes:\n",
    "\n",
    "- **Visualización univariable:** Cuando queremso visualizar un atributo de manera independiente a los demás. \n",
    "- **Visualizaicón multivariable:** Cuando queremos visualizar la intracción entre los diferentes atributos de nuestro conjunto de datos."
   ]
  },
  {
   "cell_type": "markdown",
   "metadata": {},
   "source": [
    "## 2. Visualización univariable\n",
    "Como se ha comentado anteriormente, las gráficas univariable nos permiten visualizar los atributos individuales sin interacciones; las cuales, el objetivo principal de las mismas es aprender algo sobre la distribución, la tendencia y la propagación de cada atributo. A continuación se describen las más relevantas.\n",
    "\n",
    "## 2.1 Histogramas\n",
    "\n",
    "A partis de la forma de los contenedores, puede tener una idea rápida de si un atributo es gaussiano, sesgado o incluso tiene una distrubición exponencial. También puede ayudarlo a ver posibles valores atípicos. por lo que Matplotlib es una potente librería de visualización de datos"
   ]
  },
  {
   "cell_type": "code",
   "execution_count": null,
   "metadata": {},
   "outputs": [],
   "source": [
    "%matplotlib inline\n"
   ]
  }
 ],
 "metadata": {
  "kernelspec": {
   "display_name": "Python 3.9.12 ('Ciencia_Datos')",
   "language": "python",
   "name": "python3"
  },
  "language_info": {
   "codemirror_mode": {
    "name": "ipython",
    "version": 3
   },
   "file_extension": ".py",
   "mimetype": "text/x-python",
   "name": "python",
   "nbconvert_exporter": "python",
   "pygments_lexer": "ipython3",
   "version": "3.9.12"
  },
  "orig_nbformat": 4,
  "vscode": {
   "interpreter": {
    "hash": "743777b310bb13500d41c4574cfbba7071203b1e5d57bcccb6c8c7a477518f98"
   }
  }
 },
 "nbformat": 4,
 "nbformat_minor": 2
}
